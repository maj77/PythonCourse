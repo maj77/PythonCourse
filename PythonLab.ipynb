{
 "cells": [
  {
   "cell_type": "code",
   "execution_count": 1,
   "metadata": {},
   "outputs": [],
   "source": [
    "from cmath import sqrt\n",
    "import os\n",
    "from pathlib import Path\n",
    "import timeit\n",
    "from PIL import Image\n",
    "from matplotlib import test\n",
    "import numpy as np\n"
   ]
  },
  {
   "cell_type": "markdown",
   "metadata": {},
   "source": [
    "**1. Napisz skrypt, który pyta o imię, nazwisko i rok urodzenia\n",
    "(powinny być podane w jednej linii)**\n"
   ]
  },
  {
   "cell_type": "code",
   "execution_count": null,
   "metadata": {},
   "outputs": [],
   "source": [
    "class Person:\n",
    "    def __init__(self) -> None:\n",
    "        self.name = \"\"\n",
    "        self.surname = \"\"\n",
    "        self.date = 0\n",
    "\n",
    "    def get_inputs(self):\n",
    "        self.name, self.surname, self.date = input(\"Enter name, surname and birth date: \").split()\n",
    "    \n",
    "    def print_data(self):\n",
    "        print(f'Name {self.name}, Surname: {self.surname}, Date: {self.date}')\n"
   ]
  },
  {
   "cell_type": "markdown",
   "metadata": {},
   "source": [
    "**2. Napisz skrypt realizujący funkcję zamka szyfrowego. Prosi\n",
    "o podanie kodu i następnie sprawdza czy jest on zgodny z\n",
    "wcześniej wprowadzonym kodem**"
   ]
  },
  {
   "cell_type": "code",
   "execution_count": null,
   "metadata": {},
   "outputs": [],
   "source": [
    "# zad sejf\n",
    "class Lock:\n",
    "    def __init__(self) -> None:\n",
    "        self.code = [9, 9, 7, 4]\n",
    "\n",
    "    def change_code(self, new_code):\n",
    "        self.code = new_code\n",
    "\n",
    "    def get_keyboard_input(self):\n",
    "        user_input = []\n",
    "        for number in self.code:\n",
    "            user_input.append(int(input()))\n",
    "        return user_input\n",
    "\n",
    "    def check_code(self, input_code):\n",
    "        if(input_code == self.code):\n",
    "            return \"succes\"\n",
    "        else:\n",
    "            return \"wrong code\""
   ]
  },
  {
   "cell_type": "markdown",
   "metadata": {},
   "source": [
    "**3.1 Napisz skrypt zliczający ilość plików w katalogu /dev, skorzystaj\n",
    "ze standardowej biblioteki**\n",
    "\n",
    "**3.2 Napisz rekurencyjne przejście drzewa katalogów i wypisanie\n",
    "plików, które znajdują się w eksplorowanej strukturze**"
   ]
  },
  {
   "cell_type": "code",
   "execution_count": null,
   "metadata": {},
   "outputs": [],
   "source": [
    "# zad ilosc plikow i struktura katalogu\n",
    "class Dirs:\n",
    "    def __init__(self) -> None:\n",
    "        self.file_count = 0\n",
    "\n",
    "    def count_files(self, path:Path):\n",
    "        #len(list(path.rglob('*')))\n",
    "        cnt = 0\n",
    "        for p in path.rglob('*'):\n",
    "            cnt += 1\n",
    "        self.file_count = cnt\n",
    "    \n",
    "    def list_dirs(self, path:Path):\n",
    "        for file in path.rglob('*'):\n",
    "            print(file.name)\n",
    "        \n",
    "    def get_file_count(self):\n",
    "        return self.file_coun"
   ]
  },
  {
   "cell_type": "markdown",
   "metadata": {},
   "source": [
    "**3.3 Napisz skrypt konwersji rozszerzeń plików \\*.jpg na \\*.png (uprzednio stwórz zestaw 4 plików z rozszerzeniem \\*.jpg)**"
   ]
  },
  {
   "cell_type": "code",
   "execution_count": null,
   "metadata": {},
   "outputs": [],
   "source": [
    "# zad konwesja  rozrzerzen\n",
    "class Images:\n",
    "    #def __init__(self) -> None:  \n",
    "\n",
    "    def to_png(self, path):\n",
    "        img = Image.open(path)\n",
    "        img.save(r'converted.png', format='png')\n",
    "     \n",
    "    def to_jpg(self, path):\n",
    "        img = Image.open(path)\n",
    "        img.save(r'converted', format='jpg')"
   ]
  },
  {
   "cell_type": "markdown",
   "metadata": {},
   "source": [
    "**4.1 Napisz skrypt usuwający z wejściowego ciągu tekstowego\n",
    "(wybierz kilka plików z repozytorium: Tekstowego) następujące\n",
    "słowa : się, i, oraz, nigdy, dlaczego**\n",
    "\n",
    "**4.2 Napisz skrypt zmieniający w podanym ciągu wejściowym\n",
    "(wybierz kilka plików z repozytorium: Tekstowego) następujące\n",
    "słowa : i, oraz, nigdy, dlaczego na następujący zestaw słów : oraz,\n",
    "i, prawie nigdy, czemu. Zalecaną strukturą jest słownik**"
   ]
  },
  {
   "cell_type": "code",
   "execution_count": null,
   "metadata": {},
   "outputs": [],
   "source": [
    "# zad: usuwanie i podmienianie słow\n",
    "class Text:\n",
    "    #tokenizacja\n",
    "    def __init__(self) -> None:\n",
    "        self.words = [\" się\", \" i\", \" oraz\", \" nigdy\", \" dlaczego\"]\n",
    "        self.words_dict = {\n",
    "            \" i\" : \"?oraz\",\n",
    "            \" oraz\" : \" i\",\n",
    "            \" nigdy\" : \" prawie nigdy\",\n",
    "            \" dlaczego\" : \" czemu\"\n",
    "        }\n",
    "\n",
    "    def del_keywords(self, string):\n",
    "        for word in self.words:\n",
    "             string = string.lower().replace(word, '')\n",
    "        return ' '.join(string.split())\n",
    "\n",
    "    def replace_keywords(self, string):\n",
    "        for key in self.words_dict:\n",
    "            string = string.lower().replace(key, self.words_dict[key])\n",
    "        string = string.lower().replace(\"?oraz\", \" oraz\")\n",
    "        return ' '.join(string.split())"
   ]
  },
  {
   "cell_type": "markdown",
   "metadata": {},
   "source": [
    "**5.1 Napisz skrypt obliczający pierwiastki równania kwadratowego\n",
    "w postaci : y = ax2+bx+c. Wejściem skryptu są wartości: a, b, c**\n",
    "\n",
    "**5.2 Napisz skrypt sortujący liczby malejąco. Wygeneruj losowo 50\n",
    "liczb - wykorzystąj standardową funkcje do losowania. Z wbudowanej funkcji sortującej korzystaj tylko w celu weryfikacji\n",
    "wyników**\n",
    "\n",
    "**5.3 Napisz skrypt obliczający wartość iloczynu dwóch wektorów:\n",
    "a = [1, 2, 12, 4], b = [2, 4, 2, 8], tzw. iloczyn skalarny wektorów**\n",
    "\n",
    "**5.4 Napisz skrypt sumujący dwie macierze o rozmiarach 128x128.\n",
    "Wykorzystaj generator liczb losowych do wygenerowania\n",
    "macierzy.**\n",
    "\n",
    "**5.5 Napisz skrypt realizujący mnożenie dwóch macierzy o rozmiarach 8x8**\n",
    "\n",
    "**5.6 Napisz skrypt wyliczający wyznacznik macierzy wygenerowanej losow**"
   ]
  },
  {
   "cell_type": "code",
   "execution_count": null,
   "metadata": {},
   "outputs": [],
   "source": [
    "class Algs:\n",
    "    def __init___(self) -> None:\n",
    "        self.a = 0\n",
    "        self.b = 0\n",
    "        self.c = 0\n",
    "    \n",
    "    def roots(self, a, b, c):\n",
    "        delta = b*b-4*a*c\n",
    "        if delta == 0:\n",
    "            return -b/2*a\n",
    "        elif delta > 0:\n",
    "            return ((-b-sqrt(delta))/2*a, (-b+sqrt(delta))/2*a)\n",
    "        else:\n",
    "            raise NotImplementedError\n",
    "\n",
    "    def bubble_sort(self, arr):\n",
    "        for i in range(1,len(arr)-1):\n",
    "            for j in range(0, len(arr)-i-1):\n",
    "                if arr[j] < arr[j+1]:\n",
    "                    arr[j], arr[j+1] = arr[j+1], arr[j] \n",
    "    \n",
    "    def dot_product(self, u, v):\n",
    "        return u*v\n",
    "\n",
    "    def matrix_sum(self, A, B):\n",
    "        return A+B\n",
    "    \n",
    "    def matrix_mult(self, A, B):\n",
    "        return np.matmul(A, B)\n",
    "\n",
    "    def det(self, A):\n",
    "        return np.linalg.det(A)"
   ]
  },
  {
   "cell_type": "markdown",
   "metadata": {},
   "source": [
    "**6. Zdefiniuj klasę reprezentującą liczby zespolone (wraz z funkcjami na nich działającymi np. dodawanie, odejmowanie itd.)**"
   ]
  },
  {
   "cell_type": "code",
   "execution_count": 2,
   "metadata": {},
   "outputs": [
    {
     "name": "stdout",
     "output_type": "stream",
     "text": [
      "2+j2\n",
      "21.0+j3.0\n"
     ]
    }
   ],
   "source": [
    "class Complex:\n",
    "    def __init__(self, re=0, im=0) -> None:\n",
    "        self.re = re\n",
    "        self.im = im\n",
    "\n",
    "    # 5+j3\n",
    "    @classmethod\n",
    "    def from_string(cls, data):\n",
    "        temp = data.replace(\" \", \"\")\n",
    "        temp = temp.split('+')\n",
    "        try:\n",
    "            re = float(temp[0])\n",
    "            im = float(temp[1][1:])\n",
    "        except ValueError:\n",
    "            re = float(temp[0])\n",
    "            im = float(temp[1][:-1])\n",
    "        return Complex(re,im)\n",
    "\n",
    "    def __str__(self):\n",
    "        return f\"{self.re}+j{self.im:}\"\n",
    "\n",
    "    def __add__(self, number):\n",
    "        try:\n",
    "            return Complex(self.re + number.re, self.im + number.im)\n",
    "        except AttributeError:\n",
    "            if isinstance(number, (float, int)):\n",
    "                return Complex(self.re + number, self.im)\n",
    "            else:\n",
    "                raise \n",
    "\n",
    "    def __sub__(self, number):\n",
    "        try:\n",
    "           return Complex(self.re - number.re, self.im - number.im)\n",
    "        except AttributeError:\n",
    "            if isinstance(number, float) or isinstance(number, int):\n",
    "                return Complex(self.re - number, self.im)\n",
    "            else:\n",
    "                raise\n",
    "\n",
    "    def __mul__(self, number):\n",
    "        try:\n",
    "            re = (self.re * number.re) - (self.im * number.im)\n",
    "            im = (self.re * number.im) + (self.im * number.re)\n",
    "            return Complex(re, im)\n",
    "        except AttributeError:\n",
    "            if isinstance(number, float) or isinstance(number, int):\n",
    "                return Complex(self.re * number, self.im * number)\n",
    "            else:\n",
    "                raise\n",
    "    \n",
    "    def __truediv__(self, number):\n",
    "        try:\n",
    "            if number.re == 0 and number.im == 0: \n",
    "                raise ZeroDivisionError\n",
    "            re = ((self.re*number.re) + (self.im*number.im)) / (number.re**2 + number.im**2)\n",
    "            im = ((self.im*number.re) - (self.re*number.im)) / (number.re**2 + number.im**2)\n",
    "            return Complex(re, im)\n",
    "        except AttributeError:\n",
    "            if isinstance(number, float) or isinstance(number, int):\n",
    "                if number == 0:\n",
    "                    raise ZeroDivisionError\n",
    "                return Complex(self.re / number, self.im / number)\n",
    "            else:\n",
    "                raise\n",
    "\n",
    "c = Complex(2, 2)\n",
    "print(c)\n",
    "a = Complex.from_string(\"21 + 3j\")\n",
    "print(a)"
   ]
  },
  {
   "cell_type": "markdown",
   "metadata": {},
   "source": [
    "**7. Wykorzystaj powyzszą klasę do stworzenia prostego kalkulatora, parsującego i wykonującego równanie podane przez\n",
    "użytkownika**"
   ]
  },
  {
   "cell_type": "code",
   "execution_count": 3,
   "metadata": {},
   "outputs": [
    {
     "name": "stdout",
     "output_type": "stream",
     "text": [
      "33.0+j4.0\n",
      "0.0+j12.0\n"
     ]
    }
   ],
   "source": [
    "class Calculator:\n",
    "\n",
    "    def __init__(self):\n",
    "        self.num1 = int()\n",
    "        self.num1 = int()\n",
    "        self.operation = str()\n",
    "\n",
    "    def get_inputs(self):\n",
    "        self.num1, self.operation, self.num2 = input().split(' ')\n",
    "    \n",
    "    def write_inputs(self, input_string):\n",
    "        try:\n",
    "            self.num1, self.operation, self.num2 = input_string.split(' ')\n",
    "        except ValueError:\n",
    "            self.num1, self.operation, self.num2 = input_string.split('*')\n",
    "\n",
    "    def calculate(self):\n",
    "        cpx1 = Complex.from_string(self.num1)\n",
    "        cpx2 = Complex.from_string(self.num2)\n",
    "        if self.operation == \"+\":\n",
    "            return cpx1+cpx2\n",
    "        elif self.operation  == \"-\":\n",
    "            return cpx1+cpx2\n",
    "        elif self.operation == \"*\":\n",
    "            return cpx1*cpx2\n",
    "        elif self.operation == \"/\":\n",
    "            return cpx1/cpx2        \n",
    "\n",
    "calc = Calculator()\n",
    "\n",
    "calc.write_inputs(\"32+j3 + 1+j1\")\n",
    "result = calc.calculate()\n",
    "print(result)\n",
    "calc.write_inputs(\"2+j2 * 3+j3\")\n",
    "result = calc.calculate()\n",
    "print(result)"
   ]
  },
  {
   "cell_type": "markdown",
   "metadata": {},
   "source": [
    "**8. Sparsuj przygotowanego XML (parserem SAX i DOM) i go\n",
    "zmodyfikuj np. zmień wartość któregoś tag’a i zapisz do nowego\n",
    "pliku**"
   ]
  },
  {
   "cell_type": "code",
   "execution_count": 2,
   "metadata": {},
   "outputs": [],
   "source": [
    "import xml.etree.ElementTree as ET\n",
    "\n",
    "# Open original file\n",
    "tree = ET.parse('test.xml')\n",
    "root = tree.getroot()\n",
    "\n",
    "root[3].text = \"I'll be late, my car broke down\"\n",
    "# Append new tag: <a x='1' y='abc'>body text</a>\n",
    "new_tag = ET.SubElement(root, 'footer')\n",
    "new_tag.text = 'BR Jani'\n",
    "new_tag.attrib['phone'] = '651 721 321' # must be str; cannot be an int\n",
    "new_tag.attrib['e-mail'] = 'jani.v@ecorp.com'\n",
    "\n",
    "# Write back to file\n",
    "#et.write('file.xml')\n",
    "tree.write('test2.xml')"
   ]
  },
  {
   "cell_type": "markdown",
   "metadata": {},
   "source": [
    "**9.  JSON**"
   ]
  },
  {
   "cell_type": "code",
   "execution_count": 3,
   "metadata": {},
   "outputs": [],
   "source": [
    "import json\n",
    "\n",
    "struct = {\n",
    "    \"employees\" : [\n",
    "        ]\n",
    "    }\n",
    "\n",
    "json_object = json.dumps(struct, indent=4)\n",
    "\n",
    "with open(\"sample.json\", \"w\") as outfile:\n",
    "    outfile.write(json_object)\n"
   ]
  },
  {
   "cell_type": "code",
   "execution_count": 55,
   "metadata": {},
   "outputs": [],
   "source": [
    "def read_data(filename):\n",
    "    with open(filename, \"r\") as outfile:\n",
    "        data = json.load(outfile)\n",
    "        print(data)\n",
    "        outfile.close()\n",
    "\n",
    "def write_data(filename):\n",
    "    employee_info = dict()\n",
    "    employee_info[\"name\"], employee_info[\"surname\"], employee_info[\"role\"], employee_info[\"email\"], employee_info[\"phone\"] = input(\"Write employee data: \").split()\n",
    "    with open(filename, \"r+\") as outfile:\n",
    "        data = json.load(outfile)\n",
    "        data[\"employees\"].append(employee_info)\n",
    "        outfile.seek(0)\n",
    "        json.dump(data, outfile, indent=4)\n",
    "        outfile.truncate()\n",
    "        outfile.close()\n",
    "\n",
    "def delete_record(filename):\n",
    "    with open(filename, \"r+\") as outfile:\n",
    "        data = json.load(outfile)\n",
    "        #print(type(data[\"employees\"]))\n",
    "        print(\"choose which recerd you want delete: \")\n",
    "        record_idx = int(input())\n",
    "        data[\"employees\"].pop(record_idx)\n",
    "        outfile.seek(0)\n",
    "        json.dump(data, outfile, indent=4)\n",
    "        outfile.truncate()\n",
    "        outfile.close()"
   ]
  },
  {
   "cell_type": "code",
   "execution_count": 56,
   "metadata": {},
   "outputs": [
    {
     "name": "stdout",
     "output_type": "stream",
     "text": [
      "choose which recerd you want delete: \n"
     ]
    }
   ],
   "source": [
    "#read_data(\"sample.json\")\n",
    "#write_data(\"sample.json\")\n",
    "delete_record(\"sample.json\")\n"
   ]
  }
 ],
 "metadata": {
  "kernelspec": {
   "display_name": "Python 3.10.6 64-bit",
   "language": "python",
   "name": "python3"
  },
  "language_info": {
   "codemirror_mode": {
    "name": "ipython",
    "version": 3
   },
   "file_extension": ".py",
   "mimetype": "text/x-python",
   "name": "python",
   "nbconvert_exporter": "python",
   "pygments_lexer": "ipython3",
   "version": "3.10.6"
  },
  "orig_nbformat": 4,
  "vscode": {
   "interpreter": {
    "hash": "4237f51546fe1c18318f1a5e5396e7d6e014f7e52796abf56e2e2caa3388e525"
   }
  }
 },
 "nbformat": 4,
 "nbformat_minor": 2
}
